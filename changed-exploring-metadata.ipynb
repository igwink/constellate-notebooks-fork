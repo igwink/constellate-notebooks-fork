{
 "cells": [
  {
   "cell_type": "markdown",
   "metadata": {
    "colab_type": "text",
    "id": "IZtnwJbt6oJT"
   },
   "source": [
    "<img src=\"https://ithaka-labs.s3.amazonaws.com/static-files/images/tdm/tdmdocs/CC_BY.png\" align=left alt=\"CC BY license logo\" /><br /><br />\n",
    "Created by [Nathan Kelber](http://nkelber.com) and Ted Lawless for [JSTOR Labs](https://labs.jstor.org/) under [Creative Commons CC BY License](https://creativecommons.org/licenses/by/4.0/)<br />\n",
    "**For questions/comments/improvements, email nathan.kelber@ithaka.org.**<br />\n",
    "____"
   ]
  },
  {
   "cell_type": "markdown",
   "metadata": {},
   "source": [
    "# Exploring Metadata and Pre-Processing\n",
    "\n",
    "**Description of methods in this notebook:**\n",
    "This [notebook](https://constellate.org/docs/key-terms/#jupyter-notebook) shows how to explore and pre-process the [metadata](https://constellate.org/docs/key-terms/#metadata) of a [dataset](https://constellate.org/docs/key-terms/#dataset) using [Pandas](https://constellate.org/docs/key-terms/#pandas). \n",
    "\n",
    "The following processes are described:\n",
    "\n",
    "* Importing a [CSV file](https://constellate.org/docs/key-terms/#csv-file) containing the [metadata](https://constellate.org/docs/key-terms/#metadata) for a given dataset ID\n",
    "* Creating a [Pandas](https://constellate.org/docs/key-terms/#pandas) dataframe to view the [metadata](https://constellate.org/docs/key-terms/#metadata)\n",
    "* Pre-processing your [dataset](https://constellate.org/docs/key-terms/#dataset) by filtering out unwanted texts\n",
    "* Importing the full [JSON Lines (.jsonl)](https://constellate.org/docs/key-terms/#jsonl) dataset and filtering it\n",
    "* Visualizing the metadata of your pre-processed [dataset](https://constellate.org/docs/key-terms/#dataset) by the number of documents/year and pages/year\n",
    "\n",
    "**Use Case:** For Learners (Detailed explanation, not ideal for researchers)\n",
    "\n",
    "**Difficulty:** Intermediate\n",
    "\n",
    "**Completion time:** 60 minutes\n",
    "\n",
    "**Knowledge Required:** \n",
    "* Python Basics Series ([Start Python Basics 1](./python-basics-1.ipynb))\n",
    "\n",
    "**Knowledge Recommended:**\n",
    "\n",
    "* Pandas Series ([Start Pandas 1](./pandas-1.ipynb))\n",
    "\n",
    "**Data Format:** \n",
    "* [CSV file](https://constellate.org/docs/key-terms/#csv-file)\n",
    "* [JSON Lines (.jsonl)](https://constellate.org/docs/key-terms/#jsonl)\n",
    "\n",
    "**Libraries Used:**\n",
    "* [constellate](https://constellate.org/docs/key-terms/#constellate-client) client to retrieve the [metadata](https://constellate.org/docs/key-terms/#metadata) in a [CSV file](https://constellate.org/docs/key-terms/#csv-file)\n",
    "* [pandas](https://constellate.org/docs/key-terms/#pandas) to manipulate and visualize the metadata\n",
    "\n",
    "**Research Pipeline:** None\n",
    "____"
   ]
  },
  {
   "cell_type": "code",
   "execution_count": null,
   "metadata": {
    "execution": {
     "iopub.execute_input": "2023-03-22T01:26:15.665080Z",
     "iopub.status.busy": "2023-03-22T01:26:15.664095Z",
     "iopub.status.idle": "2023-03-22T01:26:18.007340Z",
     "shell.execute_reply": "2023-03-22T01:26:18.006953Z",
     "shell.execute_reply.started": "2023-03-22T01:26:15.664873Z"
    }
   },
   "outputs": [],
   "source": [
    "### Import modules and libraries ###\n",
    "\n",
    "import constellate\n",
    "import pandas as pd\n",
    "import os\n",
    "import json\n",
    "from pathlib import Path\n",
    "import gzip\n",
    "\n",
    "# For displaying plots inline with Jupyter Notebooks\n",
    "%matplotlib inline"
   ]
  },
  {
   "cell_type": "markdown",
   "metadata": {},
   "source": [
    "## Import your dataset\n",
    "\n",
    "We'll use the `constellate` client to automatically retrieve the [metadata](https://constellate.org/docs/key-terms/#metadata) for a [dataset](https://constellate.org/docs/key-terms/#dataset). We can retrieve [metadata](https://constellate.org/docs/key-terms/#metadata) in a [CSV file](https://constellate.org/docs/key-terms/#csv-file) using the `get_metadata` method.\n",
    "\n",
    "Enter a [dataset ID](https://constellate.org/docs/key-terms/#dataset-ID) in the next code cell. \n",
    "\n",
    "If you don't have a dataset ID, you can:\n",
    "* Use the sample dataset ID already in the code cell\n",
    "* [Create a new dataset](https://constellate.org/builder)\n",
    "* [Use a dataset ID from other pre-built sample datasets](https://constellate.org/dataset/dashboard)"
   ]
  },
  {
   "cell_type": "code",
   "execution_count": null,
   "metadata": {
    "execution": {
     "iopub.execute_input": "2023-03-22T01:26:18.008461Z",
     "iopub.status.busy": "2023-03-22T01:26:18.008337Z",
     "iopub.status.idle": "2023-03-22T01:26:18.010626Z",
     "shell.execute_reply": "2023-03-22T01:26:18.010312Z",
     "shell.execute_reply.started": "2023-03-22T01:26:18.008449Z"
    }
   },
   "outputs": [],
   "source": [
    "# Creating a variable `dataset_id` to hold our dataset ID\n",
    "# The default dataset is Shakespeare Quarterly, 1950-present\n",
    "dataset_id = \"7e41317e-740f-e86a-4729-20dab492e925\""
   ]
  },
  {
   "cell_type": "markdown",
   "metadata": {},
   "source": [
    "Next, import the `constellate` client, passing the `dataset_id` as an argument using the `get_metadata` method."
   ]
  },
  {
   "cell_type": "code",
   "execution_count": null,
   "metadata": {
    "execution": {
     "iopub.execute_input": "2023-03-22T01:26:21.070615Z",
     "iopub.status.busy": "2023-03-22T01:26:21.069678Z",
     "iopub.status.idle": "2023-03-22T01:26:21.374062Z",
     "shell.execute_reply": "2023-03-22T01:26:21.370851Z",
     "shell.execute_reply.started": "2023-03-22T01:26:21.070557Z"
    },
    "tags": []
   },
   "outputs": [],
   "source": [
    "# Pull in the sampled (1500 items) dataset CSV using\n",
    "# The .get_metadata() method downloads the CSV file for our metadata\n",
    "# to the /data folder and returns a string for the file name and location\n",
    "# dataset_metadata will be a string containing that file name and location\n",
    "dataset_metadata = constellate.get_metadata(dataset_id)\n",
    "\n",
    "# Download the full dataset (up to a limit of 25,000 documents),\n",
    "# request it first in the builder environment. See the Constellate Client\n",
    "# documentation at: https://constellate.org/docs/constellate-client\n",
    "# Then use the `constellate.download` method show below.\n",
    "#dataset_metadata = constellate.download(dataset_id, 'metadata')"
   ]
  },
  {
   "cell_type": "markdown",
   "metadata": {},
   "source": [
    "We are ready to import pandas for our analysis and create a dataframe. We will use the `read_csv()` method to create our dataframe from the CSV file."
   ]
  },
  {
   "cell_type": "code",
   "execution_count": null,
   "metadata": {
    "execution": {
     "iopub.execute_input": "2023-03-22T01:26:26.418262Z",
     "iopub.status.busy": "2023-03-22T01:26:26.417598Z",
     "iopub.status.idle": "2023-03-22T01:26:26.444919Z",
     "shell.execute_reply": "2023-03-22T01:26:26.444470Z",
     "shell.execute_reply.started": "2023-03-22T01:26:26.418218Z"
    }
   },
   "outputs": [],
   "source": [
    "# Create our dataframe using Pandas\n",
    "df = pd.read_csv(dataset_metadata)"
   ]
  },
  {
   "cell_type": "code",
   "execution_count": null,
   "metadata": {
    "execution": {
     "iopub.execute_input": "2023-03-22T01:26:50.982126Z",
     "iopub.status.busy": "2023-03-22T01:26:50.981178Z",
     "iopub.status.idle": "2023-03-22T01:26:51.018779Z",
     "shell.execute_reply": "2023-03-22T01:26:51.018095Z",
     "shell.execute_reply.started": "2023-03-22T01:26:50.982055Z"
    }
   },
   "outputs": [],
   "source": [
    "df"
   ]
  },
  {
   "cell_type": "markdown",
   "metadata": {},
   "source": [
    "We can confirm the size of our dataset using the `len()` function on our dataframe."
   ]
  },
  {
   "cell_type": "code",
   "execution_count": null,
   "metadata": {
    "tags": []
   },
   "outputs": [],
   "source": [
    "original_document_count = len(df)\n",
    "print(f'Total original documents: {original_document_count}')"
   ]
  },
  {
   "cell_type": "markdown",
   "metadata": {},
   "source": [
    "Now let's take a look at the data in our dataframe `df`. We will set pandas to show all columns using `set_option()` then get a preview using `head()`."
   ]
  },
  {
   "cell_type": "code",
   "execution_count": null,
   "metadata": {},
   "outputs": [],
   "source": [
    "# Set the pandas option to show all columns\n",
    "# Setting None gives us all columns\n",
    "# To show less columns replace None with an integer\n",
    "pd.set_option('display.max_columns', None) \n",
    "\n",
    "# Set maximumum number of rows to 50\n",
    "pd.set_option('display.max_rows', 50)\n",
    "\n",
    "# Show the first five rows of our dataframe\n",
    "# To show a different number of preview rows\n",
    "# Pass an integer into the .head()\n",
    "df.head() "
   ]
  },
  {
   "cell_type": "markdown",
   "metadata": {},
   "source": [
    "Here are descriptions for the metadata types found in each column:\n",
    "\n",
    "|Column Name|Description|\n",
    "|---|---|\n",
    "|id|a unique item ID (In JSTOR, this is a stable URL)|\n",
    "|title|the title for the item|\n",
    "|isPartOf|the larger work that holds this title (for example, a journal title)|\n",
    "|publicationYear|the year of publication|\n",
    "|doi|the digital object identifier for an item|\n",
    "|docType|the type of document (for example, article or book)|\n",
    "|provider|the source or provider of the dataset|\n",
    "|datePublished|the publication date in yyyy-mm-dd format|\n",
    "|issueNumber|the issue number for a journal publication|\n",
    "|volumeNumber|the volume number for a journal publication|\n",
    "|url|a URL for the item and/or the item's metadata|\n",
    "|creator|the author or authors of the item|\n",
    "|publisher|the publisher for the item|\n",
    "|language|the language or languages of the item (eng is the ISO 639 code for English)|\n",
    "|pageStart|the first page number of the print version|\n",
    "|pageEnd|the last page number of the print version|\n",
    "|placeOfPublication|the city of the publisher|\n",
    "|wordCount|the number of words in the item|\n",
    "|pageCount|the number of print pages in the item|\n",
    "|outputFormat|what data is available ([unigrams](https://constellate.org/docs/key-terms/#unigram), [bigrams](https://constellate.org/docs/key-terms/#bigram), [trigrams](https://constellate.org/docs/key-terms/#trigram), and/or full-text)|\n",
    "\n",
    "___"
   ]
  },
  {
   "cell_type": "markdown",
   "metadata": {},
   "source": [
    "## Filtering out columns using Pandas\n",
    "\n",
    "If there are any columns you would like to drop from your analysis, you can drop them with:\n",
    "\n",
    "`df = df.drop(['column_name1', 'column_name2', ...], axis=1)`"
   ]
  },
  {
   "cell_type": "code",
   "execution_count": null,
   "metadata": {
    "scrolled": true
   },
   "outputs": [],
   "source": [
    "# Drop each of these named columns\n",
    "# axis=1 specifies we are dropping columns\n",
    "# axis=0 would specify to drop rows\n",
    "df = df.drop(['outputFormat', 'pageEnd', 'pageStart', 'datePublished'], axis=1)\n",
    "\n",
    "# Show the first five rows of our updated dataframe\n",
    "df.head()"
   ]
  },
  {
   "cell_type": "markdown",
   "metadata": {},
   "source": [
    "## Filtering out rows with Pandas\n",
    "\n",
    "Now that we have filtered out unwanted metadata columns, we can begin filtering out any texts that may not match our research interests. Let's examine the first and last ten rows of the dataframe to see if we can identify texts that we would like to remove. We are looking for patterns in the metadata that could help us remove many texts at once."
   ]
  },
  {
   "cell_type": "code",
   "execution_count": null,
   "metadata": {},
   "outputs": [],
   "source": [
    "# Preview the first ten items in the dataframe\n",
    "# Can you identify patterns to select rows to remove?\n",
    "df.head(10)"
   ]
  },
  {
   "cell_type": "code",
   "execution_count": null,
   "metadata": {},
   "outputs": [],
   "source": [
    "# Preview the last ten items in the dataframe\n",
    "# Can you identify patterns to select rows to remove?\n",
    "df.tail(10)"
   ]
  },
  {
   "cell_type": "code",
   "execution_count": null,
   "metadata": {},
   "outputs": [],
   "source": [
    "# We create a function to report how many documents were removed.\n",
    "\n",
    "def texts_report(pre_count):\n",
    "    \"\"\"Prints out a report of:\n",
    "    1. How many documents were removed\n",
    "    2. The total original number of documents\n",
    "    3. The total current number of documents\n",
    "    \"\"\"\n",
    "    \n",
    "    removed_count = pre_count - len(df)\n",
    "    print(f'{removed_count} texts were removed.')\n",
    "    print(f'Total original documents: {original_document_count}')\n",
    "    print('Total current documents: ', len(df))"
   ]
  },
  {
   "cell_type": "markdown",
   "metadata": {},
   "source": [
    "### Remove all rows without data for a particular column\n",
    "\n",
    "For example, we may wish to remove any texts that do not have authors. (In the case of journals, this may be helpful for removing paratextual sections such as the table of contents, indices, etc.) The column of interest in this case is `creator`. "
   ]
  },
  {
   "cell_type": "code",
   "execution_count": null,
   "metadata": {},
   "outputs": [],
   "source": [
    "# Remove all texts without an author\n",
    "\n",
    "print('Removing texts without authors...')\n",
    "initial_count = len(df)\n",
    "df = df.dropna(subset=['creator']) #drop each row that has no value under 'creators'\n",
    "\n",
    "# Report the number of texts removed\n",
    "texts_report(initial_count)\n"
   ]
  },
  {
   "cell_type": "markdown",
   "metadata": {},
   "source": [
    "### Remove row based on the content of a particular column\n",
    "\n",
    "We can also remove texts, depending on whether we do (or do not) want a particular value in a column. Here are a few examples."
   ]
  },
  {
   "cell_type": "code",
   "execution_count": null,
   "metadata": {},
   "outputs": [],
   "source": [
    "# Remove all items with a particular title\n",
    "# Change title to desired column\n",
    "# Change `Review Article` to your undesired title\n",
    "title_to_remove = 'Review Article'\n",
    "\n",
    "# Removing texts\n",
    "print(f'Removing texts with title \"{title_to_remove}\"...')\n",
    "initial_count = len(df)\n",
    "\n",
    "# Create a filter that returns all titles that do not match `title_to_remove`\n",
    "# Apply the filter to the DataFrame\n",
    "title_filter = df['title'] != title_to_remove\n",
    "df = df[title_filter]\n",
    "\n",
    "# Report the number of texts removed\n",
    "texts_report(initial_count)"
   ]
  },
  {
   "cell_type": "code",
   "execution_count": null,
   "metadata": {},
   "outputs": [],
   "source": [
    "# Keep only items with a particular language\n",
    "# Change language to desired column\n",
    "# Change 'eng' to your desired language\n",
    "language = 'eng' # Change to another language code for other languages\n",
    "\n",
    "# Removing texts\n",
    "print(f'Removing texts not in \"{language}\" language...')\n",
    "initial_count = len(df)\n",
    "\n",
    "# Create a filter that returns all languages matching `language` variable\n",
    "language_filter = df['language'] == language\n",
    "df = df[language_filter] # Apply filter to the DataFrame\n",
    "\n",
    "# Report the number of texts removed\n",
    "texts_report(initial_count)"
   ]
  },
  {
   "cell_type": "code",
   "execution_count": null,
   "metadata": {},
   "outputs": [],
   "source": [
    "# Remove all items with less than 1500 words\n",
    "# Change `min_word_count to your desired minimum number of words\n",
    "min_word_count = 1500\n",
    "\n",
    "# Removing texts\n",
    "print(f'Removing texts with fewer than {min_word_count} words...')\n",
    "initial_count = len(df)\n",
    "\n",
    "# Create a filter that \n",
    "word_count_filter = df['wordCount'] > min_word_count\n",
    "df = df[word_count_filter]\n",
    "\n",
    "# Report the number of texts removed\n",
    "texts_report(initial_count)"
   ]
  },
  {
   "cell_type": "markdown",
   "metadata": {},
   "source": [
    "Take a final look at your dataframe to make sure the current texts fit your research goals. In the next step, we will save the IDs of your pre-processed dataset."
   ]
  },
  {
   "cell_type": "code",
   "execution_count": null,
   "metadata": {},
   "outputs": [],
   "source": [
    "# Preview the first 50 rows of your dataset\n",
    "# If all the items look good, move to the next step.\n",
    "len(df)"
   ]
  },
  {
   "cell_type": "markdown",
   "metadata": {},
   "source": [
    "## Filtering the Full JSON-L Dataset\n",
    "\n",
    "We created our filtered list of IDs from the metadata CSV. Next, we will download the full dataset (JSON-L file) and then filter out any unwanted documents. "
   ]
  },
  {
   "cell_type": "code",
   "execution_count": null,
   "metadata": {
    "scrolled": true
   },
   "outputs": [],
   "source": [
    "# Create a Python list of IDs we want from the Pandas dataframe\n",
    "filtered_id_list = df[\"id\"].tolist()"
   ]
  },
  {
   "cell_type": "markdown",
   "metadata": {},
   "source": [
    "We can now download the sampled (1500 items) dataset (or the full dataset if it has been requested). See more:\n",
    "* [Constellate dataset types](https://constellate.org/docs/what-format-are-jstor-portico-datasets)\n",
    "* [Dataset options](https://constellate.org/docs/dataset-options)\n",
    "* [Constellate client](https://constellate.org/docs/constellate-client)\n"
   ]
  },
  {
   "cell_type": "code",
   "execution_count": null,
   "metadata": {},
   "outputs": [],
   "source": [
    "# Pull in the sampled (1500 items) dataset JSON using\n",
    "# The .get_dataset() method downloads the sampled JSON file\n",
    "dataset_file = constellate.get_dataset(dataset_id)\n",
    "\n",
    "# Download the full dataset (JSON-L file)\n",
    "# The full dataset must be requested first\n",
    "#dataset_file = constellate.download(dataset_id, 'jsonl')"
   ]
  },
  {
   "cell_type": "markdown",
   "metadata": {},
   "source": [
    "Next, we will create an empty JSON-L file to filter our results into. We will also check if we want to overwrite the file, if it already exists."
   ]
  },
  {
   "cell_type": "code",
   "execution_count": null,
   "metadata": {},
   "outputs": [],
   "source": [
    "### Create the filtered JSON-L file ###\n",
    "# This may take several minutes to complete\n",
    "\n",
    "# Define the file output name\n",
    "file_path = Path.cwd() / 'data' / 'my_data.jsonl' # You may change the name of the file here\n",
    "\n",
    "# Delete output files if they already exist\n",
    "if file_path.exists():\n",
    "    overwrite = input(f'Overwrite {file_path}? (yes/no)')\n",
    "    if overwrite.lower() == 'yes':\n",
    "        print(f'Overwriting older version of {file_path}')\n",
    "        file_path.unlink()\n",
    "        file_path.touch()"
   ]
  },
  {
   "cell_type": "markdown",
   "metadata": {},
   "source": [
    "We can now filter through each document in the original JSON file. All documents that match our filtered ID list will be added to the new JSON file. "
   ]
  },
  {
   "cell_type": "code",
   "execution_count": null,
   "metadata": {},
   "outputs": [],
   "source": [
    "# Append all documents with ids in `filtered_id_list`\n",
    "for document in constellate.dataset_reader(dataset_file):\n",
    "    document_id = document['id']\n",
    "    # Append any documents in the filtered list\n",
    "    if document_id in filtered_id_list:\n",
    "        with file_path.open('a') as outfile:\n",
    "            json.dump(document, outfile)\n",
    "            outfile.write('\\n')\n",
    "print(f'{file_path} created.')"
   ]
  },
  {
   "cell_type": "markdown",
   "metadata": {},
   "source": [
    "Finally, we compress the dataset file using `gzip`. This will make it easier to transfer the file. "
   ]
  },
  {
   "cell_type": "markdown",
   "metadata": {},
   "source": [
    "<h3 style=\"color:red; display:inline\">Note! &lt; / &gt; </h3>\n",
    "\n",
    "The Constellate lab has a storage limit of 10 GB. We recommend keeping datasets locally or on another form of cloud storage. Storing large datasets in the lab may slow down your lab startup time."
   ]
  },
  {
   "cell_type": "code",
   "execution_count": null,
   "metadata": {},
   "outputs": [],
   "source": [
    "# Compress the file using gzip\n",
    "# This may take several minutes to complete\n",
    "# Download this file if you want to keep it.\n",
    "# The Constellatae Lab only saves notebooks, not JSON-L datasets\n",
    "f_in = file_path.open('rb')\n",
    "f_out = gzip.open(f'{file_path}.gz', 'wb')\n",
    "f_out.writelines(f_in)\n",
    "f_out.close()\n",
    "f_in.close()\n",
    "print(f'Compression complete. \\n{file_path}.gz has been created. Please download to your computer to save.')"
   ]
  },
  {
   "cell_type": "markdown",
   "metadata": {},
   "source": [
    "---\n",
    "## Visualizing the Pre-Processed Data"
   ]
  },
  {
   "cell_type": "code",
   "execution_count": null,
   "metadata": {
    "colab": {},
    "colab_type": "code",
    "id": "upxLwnZr6oJs"
   },
   "outputs": [],
   "source": [
    "# Group the data by publication year and the aggregated number of ids into a bar chart\n",
    "df.groupby(['publicationYear'])['id'].agg('count').plot.bar(title='Documents by year', figsize=(20, 5), fontsize=12); \n",
    "\n",
    "# Read more about Pandas dataframe plotting here: \n",
    "# https://pandas.pydata.org/pandas-docs/stable/reference/api/pandas.DataFrame.plot.html"
   ]
  },
  {
   "cell_type": "markdown",
   "metadata": {
    "colab_type": "text",
    "id": "fNp2wN8I6oJt"
   },
   "source": [
    "And now let's look at the total page numbers by year."
   ]
  },
  {
   "cell_type": "code",
   "execution_count": null,
   "metadata": {
    "colab": {},
    "colab_type": "code",
    "id": "uifT8Ocy6oJu"
   },
   "outputs": [],
   "source": [
    "# Group the data by publication year and aggregated sum of the page counts into a bar chart\n",
    "\n",
    "df.groupby(['publicationYear'])['pageCount'].agg('sum').plot.bar(title='Pages by decade', figsize=(20, 5), fontsize=12);"
   ]
  }
 ],
 "metadata": {
  "colab": {
   "name": "2-metadata.ipynb",
   "provenance": [],
   "toc_visible": true
  },
  "kernelspec": {
   "display_name": "Python 3 (ipykernel)",
   "language": "python",
   "name": "python3"
  },
  "language_info": {
   "codemirror_mode": {
    "name": "ipython",
    "version": 3
   },
   "file_extension": ".py",
   "mimetype": "text/x-python",
   "name": "python",
   "nbconvert_exporter": "python",
   "pygments_lexer": "ipython3",
   "version": "3.10.6"
  },
  "toc": {
   "base_numbering": 1,
   "nav_menu": {},
   "number_sections": true,
   "sideBar": true,
   "skip_h1_title": true,
   "title_cell": "Table of Contents",
   "title_sidebar": "Contents",
   "toc_cell": false,
   "toc_position": {},
   "toc_section_display": true,
   "toc_window_display": false
  }
 },
 "nbformat": 4,
 "nbformat_minor": 4
}
